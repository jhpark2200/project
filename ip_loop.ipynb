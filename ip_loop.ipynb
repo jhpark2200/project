{
 "cells": [
  {
   "cell_type": "code",
   "execution_count": null,
   "id": "75db2448",
   "metadata": {},
   "outputs": [],
   "source": [
    "# gurobi\n",
    "import gurobipy as gp\n",
    "from gurobipy import GRB\n",
    "\n",
    "from itertools import combinations\n",
    "import numpy as np\n",
    "import pandas as pd"
   ]
  },
  {
   "cell_type": "code",
   "execution_count": null,
   "id": "f03f90ed",
   "metadata": {},
   "outputs": [],
   "source": [
    "Beta =  pd.read_csv('coef_test.csv') # read the updated coefficients\n",
    "Beta = Beta.iloc[:, 1:] # remove the intercept \n",
    "\n",
    "#  set parameters phase\n",
    "N = len(Beta)  # the number of features # \n",
    "n = int(N + N*(N-1)/2)    # the number of variables\n",
    "\n",
    "# Create a new model\n",
    "m = gp.Model(\"quadratic\")\n",
    "\n",
    "# Create variables\n",
    "x = m.addVars(N , vtype=GRB.BINARY, name=\"x\") # \n",
    "\n",
    "# Solution\n",
    "sol = pd.DataFrame()\n",
    "obj = pd.DataFrmae() \n",
    "\n",
    "# LOOP \n",
    "for i in range(N): # N=16 \n",
    "    # convert Beta to Q matrix\n",
    "    coef = np.array(Beta.loc[i])\n",
    "    Q = create_upper_matrix(coef, N)\n",
    "\n",
    "    # Set objective\n",
    "    obj = gp.quicksum(Q[i,j] * x[i] * x[j] for i in x.keys() for j in x.keys() if i <= j)\n",
    "    m.setObjective(obj, GRB.MAXIMIZE)\n",
    "    \n",
    "    try:\n",
    "        # Optimize model\n",
    "        m.optimize()\n",
    "        \n",
    "        x_new = [] # \n",
    "        \n",
    "        for v in m.getVars():\n",
    "            #print('%s %g' % (v.VarName, v.X))  \n",
    "            x_new.append(x_new, v.X)\n",
    "                \n",
    "        sol = sol.append(sol, x_new) \n",
    "        obj = obj.append(obj, m.ObjVal)\n",
    "                \n",
    "        #print('Obj: %g' % m.ObjVal)\n",
    "\n",
    "    except gp.GurobiError as e:\n",
    "        print('Error code ' + str(e.errno) + ': ' + str(e))\n",
    "\n",
    "    except AttributeError:\n",
    "        print('Encountered an attribute error')\n",
    "               "
   ]
  },
  {
   "cell_type": "code",
   "execution_count": null,
   "id": "0052341a",
   "metadata": {},
   "outputs": [],
   "source": [
    "sol # optimal combination of x\n",
    "obj # Objective value"
   ]
  }
 ],
 "metadata": {
  "kernelspec": {
   "display_name": "Python 3 (ipykernel)",
   "language": "python",
   "name": "python3"
  },
  "language_info": {
   "codemirror_mode": {
    "name": "ipython",
    "version": 3
   },
   "file_extension": ".py",
   "mimetype": "text/x-python",
   "name": "python",
   "nbconvert_exporter": "python",
   "pygments_lexer": "ipython3",
   "version": "3.9.13"
  }
 },
 "nbformat": 4,
 "nbformat_minor": 5
}
